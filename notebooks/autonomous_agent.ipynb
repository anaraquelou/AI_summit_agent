{
 "cells": [
  {
   "cell_type": "markdown",
   "id": "a4b823ec",
   "metadata": {},
   "source": [
    "# Return Order Agent"
   ]
  },
  {
   "cell_type": "markdown",
   "id": "c8e0ec3a",
   "metadata": {},
   "source": [
    "## Imports"
   ]
  },
  {
   "cell_type": "code",
   "execution_count": 5,
   "id": "45fc3f89",
   "metadata": {},
   "outputs": [],
   "source": [
    "# Core libraries\n",
    "import os\n",
    "import json\n",
    "import sqlite3\n",
    "import pandas as pd\n",
    "\n",
    "# OpenAI client\n",
    "from openai import OpenAI\n"
   ]
  },
  {
   "cell_type": "code",
   "execution_count": null,
   "id": "53d83610",
   "metadata": {},
   "outputs": [],
   "source": []
  },
  {
   "cell_type": "markdown",
   "id": "d1e34286",
   "metadata": {},
   "source": [
    "## Tools"
   ]
  },
  {
   "cell_type": "code",
   "execution_count": null,
   "id": "6b150b57",
   "metadata": {},
   "outputs": [],
   "source": [
    "class PDFRetrieverTool:\n",
    "    def __init__(self, content):\n",
    "        self.content = content\n",
    "\n",
    "    def run(self, query: str):\n",
    "        if \"return\" in query.lower() or \"refund\" in query.lower():\n",
    "            return self.content\n",
    "        return \"No relevant policy found in the PDF.\"\n",
    "\n",
    "\n",
    "class DatabaseQueryTool:\n",
    "    def __init__(self, connection):\n",
    "        self.conn = connection\n",
    "\n",
    "    def run(self, query: str):\n",
    "        try:\n",
    "            result = pd.read_sql_query(query, self.conn)\n",
    "            return result.to_dict(orient=\"records\")\n",
    "        except Exception as e:\n",
    "            return f\"Error executing query: {e}\"\n"
   ]
  },
  {
   "cell_type": "markdown",
   "id": "e63610e7",
   "metadata": {},
   "source": [
    "## Agent"
   ]
  },
  {
   "cell_type": "code",
   "execution_count": 7,
   "id": "001be907",
   "metadata": {},
   "outputs": [],
   "source": [
    "class AutonomousReturnAgent:\n",
    "    def __init__(self, llm_client, tools: dict):\n",
    "        self.client = llm_client\n",
    "        self.tools = tools\n",
    "        self.memory = []\n",
    "\n",
    "    def build_prompt(self, user_message):\n",
    "        memory_text = \"\\n\".join([f\"{m['role'].capitalize()}: {m['content']}\" for m in self.memory])\n",
    "        return f\"\"\"\n",
    "You are an autonomous customer service AI for Polar, a retail brand.\n",
    "You can use the following tools when needed:\n",
    "\n",
    "Tools available:\n",
    "- pdf_tool: retrieves text from policy PDF.\n",
    "- db_tool: queries customer and order database using SQL.\n",
    "\n",
    "Your task is to assist with questions about orders, returns, and refunds.\n",
    "You decide which tool to call and what SQL or query to run.\n",
    "Always explain your reasoning and results clearly.\n",
    "\n",
    "Conversation so far:\n",
    "{memory_text}\n",
    "\n",
    "User: {user_message}\n",
    "If you need to use a tool, respond in JSON with the format:\n",
    "{{\"action\": \"tool_name\", \"input\": \"your query\"}}\n",
    "Otherwise, reply with the final message to the user.\n",
    "\"\"\"\n",
    "\n",
    "    def process(self, user_message):\n",
    "        # Append user message to memory\n",
    "        self.memory.append({\"role\": \"user\", \"content\": user_message})\n",
    "\n",
    "        # Build reasoning prompt\n",
    "        prompt = self.build_prompt(user_message)\n",
    "\n",
    "        # Step 1: Ask LLM what to do\n",
    "        response = self.client.chat.completions.create(\n",
    "            model=\"gpt-4o-mini\",\n",
    "            messages=[{\"role\": \"system\", \"content\": \"You are a helpful AI agent.\"},\n",
    "                      {\"role\": \"user\", \"content\": prompt}]\n",
    "        )\n",
    "        message = response.choices[0].message.content.strip()\n",
    "\n",
    "        # Step 2: If the message looks like a tool call\n",
    "        try:\n",
    "            parsed = json.loads(message)\n",
    "            if \"action\" in parsed:\n",
    "                tool_name = parsed[\"action\"]\n",
    "                tool_input = parsed[\"input\"]\n",
    "                print(f\"🧰 Using tool: {tool_name} → {tool_input}\")\n",
    "\n",
    "                if tool_name not in self.tools:\n",
    "                    result = f\"Unknown tool: {tool_name}\"\n",
    "                else:\n",
    "                    result = self.tools[tool_name].run(tool_input)\n",
    "\n",
    "                self.memory.append({\"role\": \"tool\", \"content\": str(result)})\n",
    "\n",
    "                # Ask LLM to summarize tool result for the user\n",
    "                follow_up = self.client.chat.completions.create(\n",
    "                    model=\"gpt-4o-mini\",\n",
    "                    messages=[\n",
    "                        {\"role\": \"system\", \"content\": \"You are a customer service AI assistant.\"},\n",
    "                        {\"role\": \"user\", \"content\": f\"The tool returned this: {result}. Summarize or continue the answer to the user clearly.\"}\n",
    "                    ]\n",
    "                )\n",
    "                final_message = follow_up.choices[0].message.content.strip()\n",
    "                self.memory.append({\"role\": \"assistant\", \"content\": final_message})\n",
    "                return final_message\n",
    "        except Exception:\n",
    "            pass  # not JSON, continue as normal text\n",
    "\n",
    "        # Step 3: Otherwise, it’s a normal reply\n",
    "        self.memory.append({\"role\": \"assistant\", \"content\": message})\n",
    "        return message\n"
   ]
  },
  {
   "cell_type": "markdown",
   "id": "71e5f04a",
   "metadata": {},
   "source": [
    "## Chat"
   ]
  },
  {
   "cell_type": "code",
   "execution_count": 9,
   "id": "c08913c9",
   "metadata": {},
   "outputs": [
    {
     "data": {
      "text/plain": [
       "'c:\\\\Users\\\\anaol\\\\repos\\\\langchain\\\\langchain-AI-summit\\\\notebooks'"
      ]
     },
     "execution_count": 9,
     "metadata": {},
     "output_type": "execute_result"
    }
   ],
   "source": [
    "os.getcwd()"
   ]
  },
  {
   "cell_type": "code",
   "execution_count": 10,
   "id": "bff5b867",
   "metadata": {},
   "outputs": [
    {
     "name": "stdout",
     "output_type": "stream",
     "text": [
      "False\n"
     ]
    }
   ],
   "source": [
    "import os\n",
    "\n",
    "pdf_path = \"../docs/polar-return_policy.pdf\"\n",
    "print(os.path.exists(pdf_path))  # Should print: True\n"
   ]
  },
  {
   "cell_type": "code",
   "execution_count": 8,
   "id": "fdb555f4",
   "metadata": {},
   "outputs": [
    {
     "ename": "ValueError",
     "evalue": "File path ../docs/polar-return_policy.pdf is not a valid file or url",
     "output_type": "error",
     "traceback": [
      "\u001b[31m---------------------------------------------------------------------------\u001b[39m",
      "\u001b[31mValueError\u001b[39m                                Traceback (most recent call last)",
      "\u001b[36mCell\u001b[39m\u001b[36m \u001b[39m\u001b[32mIn[8]\u001b[39m\u001b[32m, line 4\u001b[39m\n\u001b[32m      1\u001b[39m \u001b[38;5;28;01mfrom\u001b[39;00m\u001b[38;5;250m \u001b[39m\u001b[34;01mlangchain_community\u001b[39;00m\u001b[34;01m.\u001b[39;00m\u001b[34;01mdocument_loaders\u001b[39;00m\u001b[38;5;250m \u001b[39m\u001b[38;5;28;01mimport\u001b[39;00m PyPDFLoader\n\u001b[32m      3\u001b[39m file_path = \u001b[33m\"\u001b[39m\u001b[33m../docs/polar-return_policy.pdf\u001b[39m\u001b[33m\"\u001b[39m\n\u001b[32m----> \u001b[39m\u001b[32m4\u001b[39m loader = \u001b[43mPyPDFLoader\u001b[49m\u001b[43m(\u001b[49m\u001b[43mfile_path\u001b[49m\u001b[43m)\u001b[49m\n\u001b[32m      6\u001b[39m docs = loader.load()\n\u001b[32m      8\u001b[39m \u001b[38;5;28mprint\u001b[39m(docs.page_content)\n",
      "\u001b[36mFile \u001b[39m\u001b[32mc:\\Program Files\\Anaconda\\envs\\LangChain\\Lib\\site-packages\\langchain_community\\document_loaders\\pdf.py:281\u001b[39m, in \u001b[36mPyPDFLoader.__init__\u001b[39m\u001b[34m(self, file_path, password, headers, extract_images, mode, images_parser, images_inner_format, pages_delimiter, extraction_mode, extraction_kwargs)\u001b[39m\n\u001b[32m    238\u001b[39m \u001b[38;5;28;01mdef\u001b[39;00m\u001b[38;5;250m \u001b[39m\u001b[34m__init__\u001b[39m(\n\u001b[32m    239\u001b[39m     \u001b[38;5;28mself\u001b[39m,\n\u001b[32m    240\u001b[39m     file_path: Union[\u001b[38;5;28mstr\u001b[39m, PurePath],\n\u001b[32m   (...)\u001b[39m\u001b[32m    250\u001b[39m     extraction_kwargs: Optional[\u001b[38;5;28mdict\u001b[39m] = \u001b[38;5;28;01mNone\u001b[39;00m,\n\u001b[32m    251\u001b[39m ) -> \u001b[38;5;28;01mNone\u001b[39;00m:\n\u001b[32m    252\u001b[39m \u001b[38;5;250m    \u001b[39m\u001b[33;03m\"\"\"Initialize with a file path.\u001b[39;00m\n\u001b[32m    253\u001b[39m \n\u001b[32m    254\u001b[39m \u001b[33;03m    Args:\u001b[39;00m\n\u001b[32m   (...)\u001b[39m\u001b[32m    279\u001b[39m \u001b[33;03m        `aload` methods to retrieve parsed documents with content and metadata.\u001b[39;00m\n\u001b[32m    280\u001b[39m \u001b[33;03m    \"\"\"\u001b[39;00m\n\u001b[32m--> \u001b[39m\u001b[32m281\u001b[39m     \u001b[38;5;28;43msuper\u001b[39;49m\u001b[43m(\u001b[49m\u001b[43m)\u001b[49m\u001b[43m.\u001b[49m\u001b[34;43m__init__\u001b[39;49m\u001b[43m(\u001b[49m\u001b[43mfile_path\u001b[49m\u001b[43m,\u001b[49m\u001b[43m \u001b[49m\u001b[43mheaders\u001b[49m\u001b[43m=\u001b[49m\u001b[43mheaders\u001b[49m\u001b[43m)\u001b[49m\n\u001b[32m    282\u001b[39m     \u001b[38;5;28mself\u001b[39m.parser = PyPDFParser(\n\u001b[32m    283\u001b[39m         password=password,\n\u001b[32m    284\u001b[39m         mode=mode,\n\u001b[32m   (...)\u001b[39m\u001b[32m    290\u001b[39m         extraction_kwargs=extraction_kwargs,\n\u001b[32m    291\u001b[39m     )\n",
      "\u001b[36mFile \u001b[39m\u001b[32mc:\\Program Files\\Anaconda\\envs\\LangChain\\Lib\\site-packages\\langchain_community\\document_loaders\\pdf.py:140\u001b[39m, in \u001b[36mBasePDFLoader.__init__\u001b[39m\u001b[34m(self, file_path, headers)\u001b[39m\n\u001b[32m    138\u001b[39m         \u001b[38;5;28mself\u001b[39m.file_path = \u001b[38;5;28mstr\u001b[39m(temp_pdf)\n\u001b[32m    139\u001b[39m \u001b[38;5;28;01melif\u001b[39;00m \u001b[38;5;129;01mnot\u001b[39;00m os.path.isfile(\u001b[38;5;28mself\u001b[39m.file_path):\n\u001b[32m--> \u001b[39m\u001b[32m140\u001b[39m     \u001b[38;5;28;01mraise\u001b[39;00m \u001b[38;5;167;01mValueError\u001b[39;00m(\u001b[33m\"\u001b[39m\u001b[33mFile path \u001b[39m\u001b[38;5;132;01m%s\u001b[39;00m\u001b[33m is not a valid file or url\u001b[39m\u001b[33m\"\u001b[39m % \u001b[38;5;28mself\u001b[39m.file_path)\n",
      "\u001b[31mValueError\u001b[39m: File path ../docs/polar-return_policy.pdf is not a valid file or url"
     ]
    }
   ],
   "source": [
    "from langchain_community.document_loaders import PyPDFLoader\n",
    "\n",
    "file_path = \"../docs/polar-return_policy.pdf\"\n",
    "loader = PyPDFLoader(file_path)\n",
    "\n",
    "docs = loader.load()\n",
    "\n",
    "print(docs.page_content)"
   ]
  },
  {
   "cell_type": "code",
   "execution_count": null,
   "id": "8937c794",
   "metadata": {},
   "outputs": [],
   "source": [
    "pdf_tool = PDFRetrieverTool(pdf_text)\n",
    "db_tool = DatabaseQueryTool(conn)\n",
    "\n",
    "agent = AutonomousReturnAgent(\n",
    "    llm_client=client,\n",
    "    tools={\"pdf_tool\": pdf_tool, \"db_tool\": db_tool}\n",
    ")\n"
   ]
  },
  {
   "cell_type": "code",
   "execution_count": null,
   "id": "6874c562",
   "metadata": {},
   "outputs": [],
   "source": [
    "print(agent.process(\"Hi! I want to know how the return policy works.\"))\n",
    "\n",
    "print(agent.process(\"Can you check if order 1001 is eligible for a return?\"))\n",
    "\n",
    "print(agent.process(\"Who is the customer for order 1002?\"))\n"
   ]
  }
 ],
 "metadata": {
  "kernelspec": {
   "display_name": "LangChain",
   "language": "python",
   "name": "python3"
  },
  "language_info": {
   "codemirror_mode": {
    "name": "ipython",
    "version": 3
   },
   "file_extension": ".py",
   "mimetype": "text/x-python",
   "name": "python",
   "nbconvert_exporter": "python",
   "pygments_lexer": "ipython3",
   "version": "3.11.14"
  }
 },
 "nbformat": 4,
 "nbformat_minor": 5
}
